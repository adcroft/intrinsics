{
 "cells": [
  {
   "cell_type": "code",
   "execution_count": 1,
   "metadata": {},
   "outputs": [],
   "source": [
    "import inspect\n",
    "import pypi\n",
    "import math # For comparison while developing"
   ]
  },
  {
   "cell_type": "code",
   "execution_count": 2,
   "metadata": {},
   "outputs": [
    {
     "name": "stdout",
     "output_type": "stream",
     "text": [
      "def reciprocal(x, n=9, verbose=False):\n",
      "    \"\"\"Returns 1/x\"\"\"\n",
      "    # https://en.wikipedia.org/wiki/Division_algorithm\n",
      "    m,e = math.frexp(x) # Mantissa and exponent in base-2\n",
      "    r=(2**(-e)) # First quess\n",
      "    if verbose: print('reciprocal:',r,' first guess')\n",
      "    for iter in range(n):\n",
      "        rn = r * ( 2 - x*r )\n",
      "        if verbose: print('reciprocal:',rn,'(%i)'%iter)\n",
      "        if rn==r: break\n",
      "        r = rn\n",
      "    return r\n",
      "\n",
      "reciprocal: 0.125  first guess\n",
      "reciprocal: 0.171875 (0)\n",
      "reciprocal: 0.196044921875 (1)\n",
      "reciprocal: 0.19992178678512573 (2)\n",
      "reciprocal: 0.1999999694134651 (3)\n",
      "reciprocal: 0.19999999999999532 (4)\n",
      "reciprocal: 0.20000000000000004 (5)\n",
      "reciprocal: 0.19999999999999998 (6)\n",
      "reciprocal: 0.19999999999999998 (7)\n"
     ]
    },
    {
     "data": {
      "text/plain": [
       "0.19999999999999998"
      ]
     },
     "execution_count": 2,
     "metadata": {},
     "output_type": "execute_result"
    }
   ],
   "source": [
    "print( inspect.getsource( pypi.reciprocal ) )\n",
    "pypi.reciprocal(5.0, n=15, verbose=True)"
   ]
  },
  {
   "cell_type": "code",
   "execution_count": 3,
   "metadata": {},
   "outputs": [
    {
     "name": "stdout",
     "output_type": "stream",
     "text": [
      "def sqrt(x, n=9, verbose=False):\n",
      "    \"\"\"Returns sqrt(x)\"\"\"\n",
      "    # https://en.wikipedia.org/wiki/Methods_of_computing_square_roots\n",
      "    m,e = math.frexp(x) # Mantissa and exponent in base-2\n",
      "    r = 2**(int(e/2)) # First quess\n",
      "    if verbose: print('sqrt:',r,' first guess')\n",
      "    for iter in range(n):\n",
      "        rn = 0.5 * ( r + x/r )\n",
      "        if verbose: print('sqrt:',rn,'(%i)'%iter)\n",
      "        if rn==r: break\n",
      "        r = rn\n",
      "    return r\n",
      "\n",
      "sqrt: 2  first guess\n",
      "sqrt: 1.5 (0)\n",
      "sqrt: 1.4166666666666665 (1)\n",
      "sqrt: 1.4142156862745097 (2)\n",
      "sqrt: 1.4142135623746899 (3)\n",
      "sqrt: 1.414213562373095 (4)\n",
      "sqrt: 1.414213562373095 (5)\n"
     ]
    },
    {
     "data": {
      "text/plain": [
       "1.414213562373095"
      ]
     },
     "execution_count": 3,
     "metadata": {},
     "output_type": "execute_result"
    }
   ],
   "source": [
    "print( inspect.getsource( pypi.sqrt ) )\n",
    "pypi.sqrt(2, n=15, verbose=True)"
   ]
  },
  {
   "cell_type": "code",
   "execution_count": 4,
   "metadata": {},
   "outputs": [],
   "source": [
    "# print( inspect.getsource( pypi.pi_v0 ) )\n",
    "# pypi.pi_v0(verbose=True)"
   ]
  },
  {
   "cell_type": "code",
   "execution_count": 5,
   "metadata": {},
   "outputs": [
    {
     "name": "stdout",
     "output_type": "stream",
     "text": [
      "def pi(n=5, verbose=False):\n",
      "    \"\"\"Returns pi\"\"\"\n",
      "    # https://en.wikipedia.org/wiki/Gauss%E2%80%93Legendre_algorithm\n",
      "    root2 = sqrt(2.)\n",
      "    a,b,t,p,rn = 1, reciprocal(root2, n=20), 0.25, 1, 0\n",
      "    an = 0.5 * ( a + b )\n",
      "    for iter in range(n):\n",
      "        bn = sqrt( a*b )\n",
      "        tn = t - p * ( a - an )**2\n",
      "        pn = 2 * p\n",
      "        a,b,t,p = an,bn,tn,pn\n",
      "        an = 0.5 * ( a + b )\n",
      "        if verbose:\n",
      "            r = an**2 * reciprocal(t)\n",
      "            print('pi:',r,'(%i)'%iter)\n",
      "        if an==a: break\n",
      "    r = an**2 * reciprocal(t)\n",
      "    return r\n",
      "\n",
      "pi: 3.1405792505221686 (0)\n",
      "pi: 3.141592646213543 (1)\n",
      "pi: 3.141592653589794 (2)\n",
      "pi: 3.141592653589794 (3)\n"
     ]
    },
    {
     "data": {
      "text/plain": [
       "3.141592653589794"
      ]
     },
     "execution_count": 5,
     "metadata": {},
     "output_type": "execute_result"
    }
   ],
   "source": [
    "print( inspect.getsource( pypi.pi ) )\n",
    "pypi.pi(verbose=True)"
   ]
  },
  {
   "cell_type": "code",
   "execution_count": 6,
   "metadata": {},
   "outputs": [
    {
     "name": "stdout",
     "output_type": "stream",
     "text": [
      "def sine(x, n=21, verbose=False):\n",
      "    \"\"\"Returns sin(x)\"\"\"\n",
      "    # https://en.wikipedia.org/wiki/Sine#Series_definition\n",
      "    C=[0.16666666666666666,0.05,0.023809523809523808,0.013888888888888888,0.00909090909090909,0.00641025641025641,0.004761904761904762,0.003676470588235294,0.0029239766081871343,0.002380952380952381,0.001976284584980237,0.0016666666666666667,0.0014245014245014246,0.0012315270935960591,0.001075268817204301,0.000946969696969697,0.0008403361344537816,0.0007507507507507507,0.0006747638326585695]\n",
      "    ro,f,s = x,1.,-1.\n",
      "    for i in range(1,n):\n",
      "        k = 2*i + 1\n",
      "        #f = f * pypi.reciprocal( (k-1)*k ) # These should be pre-computed\n",
      "        f = f * C[i-1]\n",
      "        r = ro + x**k * f * s\n",
      "        if verbose: print('sine:',r,'(%i)'%i)\n",
      "        if r==ro: break\n",
      "        ro,s = r, -s\n",
      "    return r\n",
      "\n",
      "sine: 0.7046526512091675 (1)\n",
      "sine: 0.7071430457793603 (2)\n",
      "sine: 0.7071064695751781 (3)\n",
      "sine: 0.7071067829368671 (4)\n",
      "sine: 0.7071067811796194 (5)\n",
      "sine: 0.7071067811865679 (6)\n",
      "sine: 0.7071067811865475 (7)\n",
      "sine: 0.7071067811865475 (8)\n"
     ]
    },
    {
     "data": {
      "text/plain": [
       "0.7071067811865475"
      ]
     },
     "execution_count": 6,
     "metadata": {},
     "output_type": "execute_result"
    }
   ],
   "source": [
    "print( inspect.getsource( pypi.sine ) )\n",
    "pypi.sine(math.pi/2 * 0.5, verbose=True)"
   ]
  },
  {
   "cell_type": "code",
   "execution_count": 7,
   "metadata": {},
   "outputs": [
    {
     "name": "stdout",
     "output_type": "stream",
     "text": [
      "def cosine(x, n=21, verbose=False):\n",
      "    \"\"\"Returns cos(x)\"\"\"\n",
      "    # https://en.wikipedia.org/wiki/Trigonometric_functions#Power_series_expansion\n",
      "    C=[0.5,0.08333333333333333,0.03333333333333333,0.017857142857142856,0.011111111111111111,0.007575757575757576,0.005494505494505495,0.004166666666666667,0.0032679738562091504,0.002631578947368421,0.0021645021645021645,0.0018115942028985507,0.0015384615384615385,0.0013227513227513227,0.0011494252873563218,0.0010080645161290322,0.00089126559714795,0.0007936507936507937,0.0007112375533428165,0.000641025641025641]\n",
      "    ro,f,s = 1,1.,-1.\n",
      "    for i in range(1,n):\n",
      "        k = 2*i\n",
      "        #f = f * pypi.reciprocal( (k-1)*k ) # These should be pre-computed\n",
      "        f = f * C[i-1]\n",
      "        r = ro + x**k * f * s\n",
      "        if verbose: print('cosine:',r,'(%i)'%i)\n",
      "        if r==ro: break\n",
      "        ro,s = r, -s\n",
      "    return r\n",
      "\n",
      "cosine: 0.6915748624659576 (1)\n",
      "cosine: 0.707429206709773 (2)\n",
      "cosine: 0.7071032148228457 (3)\n",
      "cosine: 0.7071068056832942 (4)\n",
      "cosine: 0.7071067810719247 (5)\n",
      "cosine: 0.7071067811869363 (6)\n",
      "cosine: 0.7071067811865465 (7)\n",
      "cosine: 0.7071067811865475 (8)\n",
      "cosine: 0.7071067811865475 (9)\n"
     ]
    },
    {
     "data": {
      "text/plain": [
       "0.7071067811865475"
      ]
     },
     "execution_count": 7,
     "metadata": {},
     "output_type": "execute_result"
    }
   ],
   "source": [
    "print( inspect.getsource( pypi.cosine ) )\n",
    "pypi.cosine(math.pi/2 * 0.5, verbose=True)"
   ]
  },
  {
   "cell_type": "code",
   "execution_count": 8,
   "metadata": {},
   "outputs": [
    {
     "data": {
      "text/plain": [
       "(0.7071067811865417, 0.7071067811865503)"
      ]
     },
     "execution_count": 8,
     "metadata": {},
     "output_type": "execute_result"
    }
   ],
   "source": [
    "def cordic(beta, n=55):\n",
    "    \"\"\"This function computes v = [cos(beta), sin(beta)] (beta in radians)\n",
    "    using n iterations. Increasing n will increase the precision.\"\"\"\n",
    "    # https://en.wikipedia.org/wiki/CORDIC\n",
    "\n",
    "    pi = math.pi\n",
    "    if (beta < -0.5*pi) or (beta > 0.5*pi):\n",
    "        if beta < 0:\n",
    "            v = cordic(beta + pi, n)\n",
    "        else:\n",
    "            v = cordic(beta - pi, n)\n",
    "        v = -v  # flip the sign for second or third quadrant\n",
    "        return\n",
    "\n",
    "    # Initialization of tables of constants used by CORDIC\n",
    "    # need a table of arctangents of negative powers of two, in radians:\n",
    "    # angles = atan(2.^-(0:27));\n",
    "    angles =  [\n",
    "    0.78539816339745,  0.46364760900081,  0.24497866312686,  0.12435499454676,\n",
    "    0.06241880999596,  0.03123983343027,  0.01562372862048,  0.00781234106010,\n",
    "    0.00390623013197,  0.00195312251648,  0.00097656218956,  0.00048828121119,\n",
    "    0.00024414062015,  0.00012207031189,  0.00006103515617,  0.00003051757812,\n",
    "    0.00001525878906,  0.00000762939453,  0.00000381469727,  0.00000190734863,\n",
    "    0.00000095367432,  0.00000047683716,  0.00000023841858,  0.00000011920929,\n",
    "    0.00000005960464,  0.00000002980232,  0.00000001490116,  0.00000000745058 ]\n",
    "    # and a table of products of reciprocal lengths of vectors [1, 2^-2j]:\n",
    "    # Kvalues = cumprod(1./abs(1 + 1j*2.^(-(0:23))))\n",
    "    Kvalues = [\n",
    "    0.70710678118655,  0.63245553203368,  0.61357199107790,  0.60883391251775,\n",
    "    0.60764825625617,  0.60735177014130,  0.60727764409353,  0.60725911229889,\n",
    "    0.60725447933256,  0.60725332108988,  0.60725303152913,  0.60725295913894,\n",
    "    0.60725294104140,  0.60725293651701,  0.60725293538591,  0.60725293510314,\n",
    "    0.60725293503245,  0.60725293501477,  0.60725293501035,  0.60725293500925,\n",
    "    0.60725293500897,  0.60725293500890,  0.60725293500889,  0.60725293500888 ]\n",
    "    Kn = Kvalues[ min(n, len(Kvalues)-1 )]\n",
    "\n",
    "    # Initialize loop variables:\n",
    "    vx,vy = 1.,0. # start with 2-vector cosine and sine of zero\n",
    "    poweroftwo = 1.\n",
    "    angle = angles[0]\n",
    "\n",
    "    # Iterations\n",
    "    for j in range(n):\n",
    "        if beta < 0:\n",
    "            sigma = -1.\n",
    "        else:\n",
    "            sigma = 1.\n",
    "        factor = sigma * poweroftwo\n",
    "        # Note the matrix multiplication can be done using scaling by powers of two and addition subtraction\n",
    "        vx,vy = vx - factor*vy, factor*vx + vy\n",
    "        beta = beta - sigma * angle # update the remaining angle\n",
    "        poweroftwo = 0.5 * poweroftwo\n",
    "        # update the angle from table, or eventually by just dividing by two\n",
    "        if j+1 >= len(angles):\n",
    "            angle = 0.5 * angle\n",
    "        else:\n",
    "            angle = angles[j+1]\n",
    "\n",
    "    # Adjust length of output vector to be [cos(beta), sin(beta)]:\n",
    "    vx,vy = vx*Kn, vy*Kn\n",
    "    return vx,vy\n",
    "cordic(math.pi/4)"
   ]
  },
  {
   "cell_type": "code",
   "execution_count": 9,
   "metadata": {},
   "outputs": [
    {
     "name": "stdout",
     "output_type": "stream",
     "text": [
      "1.0\n",
      "0.5\n",
      "0.16666666666666663\n",
      "0\n",
      "-0.03333333333333399\n",
      "0\n",
      "0.02380952380956758\n",
      "0\n",
      "-0.03333333333154209\n",
      "0\n",
      "0.07575757526731397\n",
      "0\n",
      "-0.2531137033204133\n",
      "0\n",
      "1.1666676791535875\n",
      "0.0006419491273961242\n",
      "-7.068502074522296\n",
      "0.6405601281966771\n",
      "69.99698015616998\n",
      "323.0140711709549\n",
      "5986.641669860796\n",
      "120040.06510149308\n",
      "1589860.9013908994\n",
      "-19576696.20832111\n",
      "-3163545259.292155\n",
      "-195508362222.15894\n",
      "-9583584454807.713\n",
      "-413822699863629.56\n",
      "-1.6309547244948874e+16\n",
      "-5.98305130690999e+17\n"
     ]
    }
   ],
   "source": [
    "def bernoulli(n):\n",
    "    A = [0] * (n+1)\n",
    "    for m in range(n+1):\n",
    "        A[m] = 1./(m+1.)\n",
    "        for j in range(m, 0, -1):\n",
    "          A[j-1] = j*(A[j-1] - A[j])\n",
    "    return A[0] # (which is Bn)\n",
    "for k in range(30):\n",
    "    b = bernoulli(k)\n",
    "    if abs(b)>1e-5: print(b)\n",
    "    else: print(0)"
   ]
  }
 ],
 "metadata": {
  "kernelspec": {
   "display_name": "Python 3",
   "language": "python",
   "name": "python3"
  },
  "language_info": {
   "codemirror_mode": {
    "name": "ipython",
    "version": 3
   },
   "file_extension": ".py",
   "mimetype": "text/x-python",
   "name": "python",
   "nbconvert_exporter": "python",
   "pygments_lexer": "ipython3",
   "version": "3.7.2"
  }
 },
 "nbformat": 4,
 "nbformat_minor": 2
}
