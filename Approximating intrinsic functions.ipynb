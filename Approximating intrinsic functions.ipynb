{
 "cells": [
  {
   "cell_type": "code",
   "execution_count": 1,
   "metadata": {},
   "outputs": [],
   "source": [
    "import inspect\n",
    "import pypi"
   ]
  },
  {
   "cell_type": "code",
   "execution_count": 2,
   "metadata": {},
   "outputs": [
    {
     "name": "stdout",
     "output_type": "stream",
     "text": [
      "def reciprocal(x, n=9, verbose=False):\n",
      "    \"\"\"Returns 1/x\"\"\"\n",
      "    # https://en.wikipedia.org/wiki/Division_algorithm\n",
      "    m,e = math.frexp(x) # Mantissa and exponent in base-2\n",
      "    r=m*(2**(1-e)) # First quess\n",
      "    if verbose: print('reciprocal:',r,' first guess')\n",
      "    for iter in range(n):\n",
      "        rn = r * ( 2 - x*r )\n",
      "        if verbose: print('reciprocal:',rn,'(%i)'%iter)\n",
      "        if abs(rn-r)==0: break\n",
      "        r = rn\n",
      "    return r\n",
      "\n",
      "reciprocal: 6.4  first guess\n",
      "reciprocal: 4.607999999999999 (0)\n",
      "reciprocal: 4.9692672 (1)\n",
      "reciprocal: 4.999811099000832 (2)\n",
      "reciprocal: 4.999999992863281 (3)\n",
      "reciprocal: 4.999999999999999 (4)\n",
      "reciprocal: 4.999999999999999 (5)\n"
     ]
    },
    {
     "data": {
      "text/plain": [
       "4.999999999999999"
      ]
     },
     "execution_count": 2,
     "metadata": {},
     "output_type": "execute_result"
    }
   ],
   "source": [
    "def reciprocal(x, n=9, verbose=False):\n",
    "    \"\"\"Returns 1/x\"\"\"\n",
    "    # https://en.wikipedia.org/wiki/Division_algorithm\n",
    "    m,e = math.frexp(x) # Mantissa and exponent in base-2\n",
    "    r=m*(2**(1-e)) # First quess\n",
    "    if verbose: print('reciprocal:',r,' first guess')\n",
    "    for iter in range(n):\n",
    "        rn = r * ( 2 - x*r )\n",
    "        if verbose: print('reciprocal:',rn,'(%i)'%iter)\n",
    "        if abs(rn-r)==0: break\n",
    "        r = rn\n",
    "    return r\n",
    "print( inspect.getsource( pypi.reciprocal ) )\n",
    "pypi.reciprocal(.2, n=15, verbose=True)"
   ]
  },
  {
   "cell_type": "code",
   "execution_count": 4,
   "metadata": {},
   "outputs": [
    {
     "name": "stdout",
     "output_type": "stream",
     "text": [
      "def sqrt(x, n=9, verbose=False):\n",
      "    \"\"\"Returns sqrt(x)\"\"\"\n",
      "    # https://en.wikipedia.org/wiki/Methods_of_computing_square_roots\n",
      "    m,e = math.frexp(x) # Mantissa and exponent in base-2\n",
      "    r = 2**(int(e/2)) # First quess\n",
      "    if verbose: print('sqrt:',r,' first guess')\n",
      "    for iter in range(n):\n",
      "        rn = 0.5 * ( r + x/r )\n",
      "        if verbose: print('sqrt:',rn,'(%i)'%iter)\n",
      "        if abs(rn-r)==0: break\n",
      "        r = rn\n",
      "    return r\n",
      "\n",
      "sqrt: 2  first guess\n",
      "sqrt: 2.25 (0)\n",
      "sqrt: 2.236111111111111 (1)\n",
      "sqrt: 2.2360679779158037 (2)\n",
      "sqrt: 2.23606797749979 (3)\n",
      "sqrt: 2.23606797749979 (4)\n"
     ]
    },
    {
     "data": {
      "text/plain": [
       "2.23606797749979"
      ]
     },
     "execution_count": 4,
     "metadata": {},
     "output_type": "execute_result"
    }
   ],
   "source": [
    "print( inspect.getsource( pypi.sqrt ) )\n",
    "pypi.sqrt(5, n=15, verbose=True)"
   ]
  }
 ],
 "metadata": {
  "kernelspec": {
   "display_name": "Python 3",
   "language": "python",
   "name": "python3"
  },
  "language_info": {
   "codemirror_mode": {
    "name": "ipython",
    "version": 3
   },
   "file_extension": ".py",
   "mimetype": "text/x-python",
   "name": "python",
   "nbconvert_exporter": "python",
   "pygments_lexer": "ipython3",
   "version": "3.7.2"
  }
 },
 "nbformat": 4,
 "nbformat_minor": 2
}
